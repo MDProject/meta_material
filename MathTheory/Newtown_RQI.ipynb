{
 "cells": [
  {
   "cell_type": "code",
   "execution_count": 16,
   "id": "834b1842",
   "metadata": {},
   "outputs": [
    {
     "name": "stdout",
     "output_type": "stream",
     "text": [
      "Approximate eigenvalue: 6.000217522257098\n",
      "Approximate eigenvector: [[-0.00678499]\n",
      " [-0.03392643]\n",
      " [-0.1289281 ]\n",
      " [-0.35288591]\n",
      " [-0.57692048]\n",
      " [-0.22416007]\n",
      " [ 0.57687172]\n",
      " [-0.35258617]\n",
      " [ 0.12822393]\n",
      " [-0.03205773]]\n",
      "Residual norm: 3.6085109317929275e-11\n"
     ]
    }
   ],
   "source": [
    "import numpy as np\n",
    "\n",
    "def projected_newton_eigen(A, x0, max_iter=50, tol=1e-10):\n",
    "    \"\"\"\n",
    "    Newton/PINVIT style eigenvector solver with projection P(A - λI)P.\n",
    "    Uses column vector form so xk @ xk.T is valid.\n",
    "    \"\"\"\n",
    "    n = A.shape[0]\n",
    "    \n",
    "    # Ensure x0 is a column vector (n,1)\n",
    "    xk = np.array(x0, dtype=float).reshape(n, 1)\n",
    "    xk /= np.linalg.norm(xk)\n",
    "    \n",
    "    # Initial Rayleigh quotient\n",
    "    lambdak = (xk.T @ A @ xk)[0,0]\n",
    "    \n",
    "    for k in range(max_iter):\n",
    "        # Residual\n",
    "        rk = A @ xk - lambdak * xk\n",
    "        \n",
    "        # Check convergence\n",
    "        if np.linalg.norm(rk) < tol:\n",
    "            break\n",
    "        \n",
    "        # Projector onto xk⊥\n",
    "        P = np.eye(n) - (xk @ xk.T)\n",
    "        \n",
    "        # Build projected operator\n",
    "        M = P @ (A - lambdak * np.eye(n)) @ P\n",
    "        \n",
    "        # Solve for δx in xk⊥\n",
    "        try:\n",
    "            delta_x = np.linalg.solve(M, -rk)\n",
    "        except np.linalg.LinAlgError:\n",
    "            raise RuntimeError(\"Projected operator became singular.\")\n",
    "        \n",
    "        # Enforce orthogonality explicitly (numerical safeguard)\n",
    "        delta_x -= xk * (xk.T @ delta_x)\n",
    "        \n",
    "        # Update and normalize\n",
    "        xk = xk + delta_x\n",
    "        xk /= np.linalg.norm(xk)\n",
    "        \n",
    "        # Update eigenvalue\n",
    "        lambdak = (xk.T @ A @ xk)[0,0]\n",
    "    \n",
    "    return lambdak, xk\n",
    "\n",
    "# ----------------------------\n",
    "# Example: Test on 2×2 matrix\n",
    "# ----------------------------\n",
    "# Construct the 10x10 tridiagonal matrix with eigenvalues 1, 2, ..., 10\n",
    "n = 10\n",
    "main_diag = np.arange(1, n+1)  # Diagonal entries: 1, 2, ..., 10\n",
    "off_diag = np.ones(n-1)         # Off-diagonal entries: 1, 1, ..., 1 (length 9)\n",
    "\n",
    "# Create the tridiagonal matrix\n",
    "A = np.diag(main_diag) + np.diag(off_diag, k=1) + np.diag(off_diag, k=-1)\n",
    "x0 = np.random.rand(n)  # initial guess\n",
    "lam, x = projected_newton_eigen(A, x0)\n",
    "\n",
    "print(\"Approximate eigenvalue:\", lam)\n",
    "print(\"Approximate eigenvector:\", x)\n",
    "\n",
    "print(\"Residual norm:\", np.linalg.norm(A @ x - lam * x))\n"
   ]
  }
 ],
 "metadata": {
  "kernelspec": {
   "display_name": "base",
   "language": "python",
   "name": "python3"
  },
  "language_info": {
   "codemirror_mode": {
    "name": "ipython",
    "version": 3
   },
   "file_extension": ".py",
   "mimetype": "text/x-python",
   "name": "python",
   "nbconvert_exporter": "python",
   "pygments_lexer": "ipython3",
   "version": "3.12.2"
  }
 },
 "nbformat": 4,
 "nbformat_minor": 5
}
